{
 "cells": [
  {
   "cell_type": "code",
   "execution_count": 4,
   "metadata": {
    "collapsed": true
   },
   "outputs": [],
   "source": [
    "import requests\n",
    "import requests_cache\n",
    "import numpy as np\n",
    "import pandas as pd\n",
    "import lxml.html as lxl\n",
    "import nltk\n",
    "import re\n",
    "from nltk.corpus import stopwords\n",
    "from datetime import datetime"
   ]
  },
  {
   "cell_type": "code",
   "execution_count": 5,
   "metadata": {
    "collapsed": true
   },
   "outputs": [],
   "source": [
    "requests_cache.install_cache('demo_cache')"
   ]
  },
  {
   "cell_type": "code",
   "execution_count": 6,
   "metadata": {
    "collapsed": true
   },
   "outputs": [],
   "source": []
  },
  {
   "cell_type": "code",
   "execution_count": 15,
   "metadata": {
    "collapsed": false
   },
   "outputs": [],
   "source": [
    "def urls_scraping(base_url, search_term):\n",
    "    try:\n",
    "        response = requests.get(base_url, params={'searchterms': serach_term})\n",
    "        response.raise_for_status()\n",
    "    except:\n",
    "        return\n",
    "    \n",
    "    lxl.fromstring(response.content)\n",
    "    \n",
    "def page_scraping(url):\n",
    "    try:\n",
    "        response = requests.get(url)\n",
    "        response.raise_for_status()\n",
    "    except:\n",
    "        return\n",
    "    \n",
    "    # extract title\n",
    "    title = root.xpath('//div[@class=\"job-title\"]/h1/text()')[0].strip()     \n",
    "    \n",
    "    # extract city and location of that posting.\n",
    "    location = [i.strip() for i in root.xpath('//div[@class=\"location\"]/span/text()')[0].split(',')]\n",
    "    city = location[0]\n",
    "    state = location[1]\n",
    "    \n",
    "    # extract job type and salary(to be done)\n",
    "    type_salary = [int(i.replace('k', '000')) for i in re.findall(r'\\d+k',root.xpath('//div[@class=\"wage\"]/span/text()')[0] ) ] \n",
    "    if type_salary == []:\n",
    "        type_salary = 'NA'\n",
    "    # extract preferred skills(string type)\n",
    "    skill_ls = root.xpath('//div[@class=\"skills\"]/ul[@class=\"skill-list\"]                         \\\n",
    "           /li[@class=\"skill-item\"]/a/span[@class=\"skill-name\"]/text()')\n",
    "    preferred_skill = ', '.join([skill.strip() for skill in skill_ls])\n",
    "    \n",
    "    # extract 'what you need for this position'\n",
    "    need_for_position = root.xpath('//div[@class=\"section-data section-data-title\" and @data-section=\"7\"]/text()')\n",
    "    \n",
    "    #extract job id\n",
    "    job_id = root.xpath('//div[@class=\"job-id\"]/text()')[0].strip()\n",
    "    job_id = re.sub('.*: ','', job_id)  \n",
    "    \n",
    "    #extract post date\n",
    "    post_date = root.xpath('//div[@class=\"mobile-hide posted posted-text\"]/span/text()')[0].strip()\n",
    "    \n",
    "    if post_date == 'Posted Today':\n",
    "        post_date = datetime.today().strftime('%m/%d/%Y')\n",
    "    else:\n",
    "        post_date = re.sub(r'^Posted ([0-9]{2}/[0-9]{2}/[0-9]{4})', r'\\1', post_date)\n",
    "    \n",
    "    return {'city':city, 'state': state, 'salary': type_salary, 'preferred_skill':preferred_skill, 'need_for_position': need_for_position,\n",
    "           'job_id': job_id, 'post_date': post_date}"
   ]
  },
  {
   "cell_type": "code",
   "execution_count": 12,
   "metadata": {
    "collapsed": true
   },
   "outputs": [],
   "source": [
    "response = requests.get('https://www.cybercoders.com/systems-administrator-job-327437')\n",
    "response.raise_for_status()\n",
    "root = lxl.fromstring(response.content)"
   ]
  },
  {
   "cell_type": "code",
   "execution_count": 13,
   "metadata": {
    "collapsed": false
   },
   "outputs": [
    {
     "data": {
      "text/plain": [
       "['Must HAVE Than 5 Years of experience and knowledge of:',\n",
       " '- Systems Administration',\n",
       " '- Linux',\n",
       " '- Windows Systems Administration',\n",
       " '- Cloud Storage',\n",
       " '- Active Directory']"
      ]
     },
     "execution_count": 13,
     "metadata": {},
     "output_type": "execute_result"
    }
   ],
   "source": [
    "root.xpath('//div[@class=\"section-data section-data-title\" and @data-section=\"7\"]/text()')"
   ]
  },
  {
   "cell_type": "code",
   "execution_count": 16,
   "metadata": {
    "collapsed": false
   },
   "outputs": [],
   "source": [
    "a = root.xpath('//div[@class=\"mobile-hide posted posted-text\"]/span/text()')[0].strip()"
   ]
  },
  {
   "cell_type": "code",
   "execution_count": 17,
   "metadata": {
    "collapsed": false
   },
   "outputs": [
    {
     "data": {
      "text/plain": [
       "{'city': 'Nashville',\n",
       " 'job_id': 'DS6-1347854',\n",
       " 'need_for_position': ['Must HAVE Than 5 Years of experience and knowledge of:',\n",
       "  '- Systems Administration',\n",
       "  '- Linux',\n",
       "  '- Windows Systems Administration',\n",
       "  '- Cloud Storage',\n",
       "  '- Active Directory'],\n",
       " 'post_date': '02/18/2017',\n",
       " 'preferred_skill': 'Systems Administration, Linux, Windows Systems Administration, Cloud Storage, Active Directory, vmware, MySQL',\n",
       " 'salary': [60000, 90000],\n",
       " 'state': 'TN'}"
      ]
     },
     "execution_count": 17,
     "metadata": {},
     "output_type": "execute_result"
    }
   ],
   "source": [
    "page_scraping('https://www.cybercoders.com/systems-administrator-job-327437')"
   ]
  },
  {
   "cell_type": "code",
   "execution_count": null,
   "metadata": {
    "collapsed": true
   },
   "outputs": [],
   "source": []
  }
 ],
 "metadata": {
  "kernelspec": {
   "display_name": "Python 2",
   "language": "python",
   "name": "python2"
  },
  "language_info": {
   "codemirror_mode": {
    "name": "ipython",
    "version": 2
   },
   "file_extension": ".py",
   "mimetype": "text/x-python",
   "name": "python",
   "nbconvert_exporter": "python",
   "pygments_lexer": "ipython2",
   "version": "2.7.10"
  }
 },
 "nbformat": 4,
 "nbformat_minor": 2
}
