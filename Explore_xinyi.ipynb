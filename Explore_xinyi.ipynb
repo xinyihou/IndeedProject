{
 "cells": [
  {
   "cell_type": "code",
   "execution_count": 1,
   "metadata": {
    "collapsed": false
   },
   "outputs": [],
   "source": [
    "import numpy as np\n",
    "import pandas as pd\n",
    "import matplotlib.pyplot as plt\n",
    "import os\n",
    "from collections import Counter\n",
    "from datetime import datetime,date\n",
    "import seaborn as sns\n",
    "import folium\n",
    "from IPython.display import HTML"
   ]
  },
  {
   "cell_type": "code",
   "execution_count": 7,
   "metadata": {
    "collapsed": false
   },
   "outputs": [],
   "source": [
    "ds = pd.read_csv('data scientist.csv',index_col=False)\n",
    "del ds['Unnamed: 0']"
   ]
  },
  {
   "cell_type": "markdown",
   "metadata": {},
   "source": [
    "<h2>Posting Dates"
   ]
  },
  {
   "cell_type": "markdown",
   "metadata": {},
   "source": [
    "We get these data on Mar 4th 2017, and we want to know the posting date of these jobs."
   ]
  },
  {
   "cell_type": "code",
   "execution_count": 95,
   "metadata": {
    "collapsed": false
   },
   "outputs": [
    {
     "data": {
      "text/plain": [
       "['02/17/2017',\n",
       " '03/03/2017',\n",
       " '01/04/2017',\n",
       " '01/17/2017',\n",
       " '02/02/2017',\n",
       " '02/03/2017',\n",
       " '12/14/2016',\n",
       " '01/09/2017',\n",
       " '02/20/2017',\n",
       " '02/23/2017',\n",
       " '01/30/2017',\n",
       " '03/01/2017',\n",
       " '03/04/2017',\n",
       " '02/28/2017']"
      ]
     },
     "execution_count": 95,
     "metadata": {},
     "output_type": "execute_result"
    }
   ],
   "source": [
    "Counter(ds['post_date']).keys()"
   ]
  },
  {
   "cell_type": "code",
   "execution_count": 98,
   "metadata": {
    "collapsed": false
   },
   "outputs": [
    {
     "data": {
      "text/plain": [
       "Counter({'01/04/2017': 1,\n",
       "         '01/09/2017': 1,\n",
       "         '01/17/2017': 1,\n",
       "         '01/30/2017': 1,\n",
       "         '02/02/2017': 1,\n",
       "         '02/03/2017': 1,\n",
       "         '02/17/2017': 1,\n",
       "         '02/20/2017': 1,\n",
       "         '02/23/2017': 21,\n",
       "         '02/28/2017': 3,\n",
       "         '03/01/2017': 2,\n",
       "         '03/03/2017': 2,\n",
       "         '03/04/2017': 72,\n",
       "         '12/14/2016': 1})"
      ]
     },
     "execution_count": 98,
     "metadata": {},
     "output_type": "execute_result"
    }
   ],
   "source": [
    "Counter(ds['post_date'])"
   ]
  },
  {
   "cell_type": "markdown",
   "metadata": {},
   "source": [
    "Here, you can find a interesting thing. The post dates are not uniformly distributed, and most of jobs are posted on 3/4/2017 and 2/23/2017. If you open the CyberCoders web now(3/5/2017), you can find a lot of jobs, whose job id is same as the ones of yesterday, are marked as 'Posting Today'."
   ]
  },
  {
   "cell_type": "code",
   "execution_count": 91,
   "metadata": {
    "collapsed": true
   },
   "outputs": [],
   "source": [
    "datevalues = Counter(ds['post_date']).keys()"
   ]
  },
  {
   "cell_type": "code",
   "execution_count": 92,
   "metadata": {
    "collapsed": false
   },
   "outputs": [],
   "source": [
    "datevalues = [datetime.strptime(i,'%m/%d/%Y') for i in datevalues]"
   ]
  },
  {
   "cell_type": "code",
   "execution_count": 155,
   "metadata": {
    "collapsed": false
   },
   "outputs": [
    {
     "data": {
      "text/plain": [
       "[datetime.timedelta(15),\n",
       " datetime.timedelta(1),\n",
       " datetime.timedelta(59),\n",
       " datetime.timedelta(46),\n",
       " datetime.timedelta(30),\n",
       " datetime.timedelta(29),\n",
       " datetime.timedelta(80),\n",
       " datetime.timedelta(54),\n",
       " datetime.timedelta(12),\n",
       " datetime.timedelta(9),\n",
       " datetime.timedelta(33),\n",
       " datetime.timedelta(3),\n",
       " datetime.timedelta(0),\n",
       " datetime.timedelta(4)]"
      ]
     },
     "execution_count": 155,
     "metadata": {},
     "output_type": "execute_result"
    }
   ],
   "source": [
    "[datetime(2017,3,4)-i for i in datevalues]"
   ]
  },
  {
   "cell_type": "markdown",
   "metadata": {},
   "source": [
    "The oldest job is posted on 12/14/2016, 80 days ago.However, most jobs are posted in recent 10 days."
   ]
  },
  {
   "cell_type": "code",
   "execution_count": 4,
   "metadata": {
    "collapsed": false
   },
   "outputs": [],
   "source": [
    "ds['post_date'] = pd.to_datetime(ds['post_date'])"
   ]
  },
  {
   "cell_type": "code",
   "execution_count": 237,
   "metadata": {
    "collapsed": false
   },
   "outputs": [
    {
     "data": {
      "image/png": "[encoded data removed]",
      "text/plain": [
       "<matplotlib.figure.Figure at 0x130d1ba8>"
      ]
     },
     "metadata": {},
     "output_type": "display_data"
    }
   ],
   "source": [
    "plot = sns.factorplot('post_date',kind = 'count',data = ds,size=4, aspect=2)\n",
    "plot.set(xticklabels=['12/14/2016','','','','','','','','','02/23/2017','','','','03/04/2017'])\n",
    "plt.title('Job Posting Numbers vs Dates')\n",
    "plt.show()"
   ]
  },
  {
   "cell_type": "markdown",
   "metadata": {},
   "source": [
    "<h2>Location"
   ]
  },
  {
   "cell_type": "markdown",
   "metadata": {},
   "source": [
    "In the original dataset, we have the state and the city of each job posting. Then we need to job the cooresponding coordinates for them:"
   ]
  },
  {
   "cell_type": "code",
   "execution_count": 8,
   "metadata": {
    "collapsed": false
   },
   "outputs": [
    {
     "data": {
      "text/plain": [
       "Location((40.7305991, -73.9865811, 0.0))"
      ]
     },
     "execution_count": 8,
     "metadata": {},
     "output_type": "execute_result"
    }
   ],
   "source": [
    "from geopy.geocoders import Nominatim\n",
    "geolocator = Nominatim()\n",
    "loc = geolocator.geocode(\"New York, NY\")\n",
    "loc"
   ]
  },
  {
   "cell_type": "code",
   "execution_count": 9,
   "metadata": {
    "collapsed": false
   },
   "outputs": [],
   "source": [
    "ds['location'] = ds['city']+','+ds['state']"
   ]
  },
  {
   "cell_type": "code",
   "execution_count": 11,
   "metadata": {
    "collapsed": false
   },
   "outputs": [],
   "source": [
    "lonlat = [geolocator.geocode(i) for i in ds.location]"
   ]
  },
  {
   "cell_type": "code",
   "execution_count": 12,
   "metadata": {
    "collapsed": false
   },
   "outputs": [
    {
     "data": {
      "text/plain": [
       "Location((47.5766324, -122.2276377, 0.0))"
      ]
     },
     "execution_count": 12,
     "metadata": {},
     "output_type": "execute_result"
    }
   ],
   "source": [
    "lonlat[2]"
   ]
  },
  {
   "cell_type": "markdown",
   "metadata": {},
   "source": [
    "Frequency table for the states of data scientist jobs:"
   ]
  },
  {
   "cell_type": "code",
   "execution_count": 13,
   "metadata": {
    "collapsed": false
   },
   "outputs": [
    {
     "data": {
      "text/plain": [
       "Counter({'AZ': 1,\n",
       "         'CA': 51,\n",
       "         'CO': 1,\n",
       "         'CT': 2,\n",
       "         'DC': 3,\n",
       "         'FL': 1,\n",
       "         'IL': 2,\n",
       "         'KY': 1,\n",
       "         'MA': 8,\n",
       "         'MD': 4,\n",
       "         'MO': 1,\n",
       "         'NY': 14,\n",
       "         'OH': 2,\n",
       "         'OR': 1,\n",
       "         'PA': 1,\n",
       "         'SC': 1,\n",
       "         'TX': 1,\n",
       "         'VA': 2,\n",
       "         'WA': 12})"
      ]
     },
     "execution_count": 13,
     "metadata": {},
     "output_type": "execute_result"
    }
   ],
   "source": [
    "Counter(ds['state'])"
   ]
  },
  {
   "cell_type": "code",
   "execution_count": 8,
   "metadata": {
    "collapsed": false
   },
   "outputs": [],
   "source": [
    "import folium\n",
    "from IPython.display import HTML\n",
    "from IPython.display import IFrame"
   ]
  },
  {
   "cell_type": "markdown",
   "metadata": {},
   "source": [
    "The map for the data scientist job:"
   ]
  },
  {
   "cell_type": "code",
   "execution_count": 9,
   "metadata": {
    "collapsed": false
   },
   "outputs": [
    {
     "data": {
      "text/html": [
       "\n",
       "        <iframe\n",
       "            width=\"800\"\n",
       "            height=\"500\"\n",
       "            src=\"map.html\"\n",
       "            frameborder=\"0\"\n",
       "            allowfullscreen\n",
       "        ></iframe>\n",
       "        "
      ],
      "text/plain": [
       "<IPython.lib.display.IFrame at 0xb78b6a0>"
      ]
     },
     "execution_count": 9,
     "metadata": {},
     "output_type": "execute_result"
    }
   ],
   "source": [
    "#Try\n",
    "mapds = folium.Map(location=[39,-98.35], zoom_start=4)\n",
    "marker_cluster = folium.MarkerCluster(\"Data Scientist Job\").add_to(mapds)\n",
    "for each in lonlat:\n",
    "    folium.Marker(each[1]).add_to(marker_cluster)\n",
    "    folium.MarkerCluster()\n",
    "mapds.save('map.html')\n",
    "IFrame('map.html', width=800, height=500)"
   ]
  },
  {
   "cell_type": "markdown",
   "metadata": {},
   "source": [
    "The map is a seperate html file, whose name is map.html."
   ]
  },
  {
   "cell_type": "code",
   "execution_count": 11,
   "metadata": {
    "collapsed": false
   },
   "outputs": [
    {
     "data": {
      "text/plain": [
       "32"
      ]
     },
     "execution_count": 11,
     "metadata": {},
     "output_type": "execute_result"
    }
   ],
   "source": [
    "sum(pd.isnull(ds['salary_lower']))"
   ]
  },
  {
   "cell_type": "markdown",
   "metadata": {},
   "source": [
    "In the 109 records, 32 have NaN salary and some of the salaries are 0.We want to delete them:"
   ]
  },
  {
   "cell_type": "code",
   "execution_count": 12,
   "metadata": {
    "collapsed": false
   },
   "outputs": [],
   "source": [
    "ds2 = ds[pd.notnull(ds['salary_lower'])].copy()"
   ]
  },
  {
   "cell_type": "code",
   "execution_count": 13,
   "metadata": {
    "collapsed": false
   },
   "outputs": [],
   "source": [
    "ds2 = ds2[ds2.salary_lower>0]\n",
    "#Only 74 records now"
   ]
  },
  {
   "cell_type": "code",
   "execution_count": 21,
   "metadata": {
    "collapsed": false
   },
   "outputs": [],
   "source": [
    "ds2['salary_mid']=(ds.salary_lower+ds.salary_upper)/2"
   ]
  },
  {
   "cell_type": "code",
   "execution_count": 15,
   "metadata": {
    "collapsed": false
   },
   "outputs": [
    {
     "data": {
      "text/plain": [
       "Counter({'AZ': 1,\n",
       "         'CA': 36,\n",
       "         'CO': 1,\n",
       "         'CT': 2,\n",
       "         'IL': 2,\n",
       "         'MA': 7,\n",
       "         'MD': 2,\n",
       "         'MO': 1,\n",
       "         'NY': 12,\n",
       "         'OH': 1,\n",
       "         'OR': 1,\n",
       "         'PA': 1,\n",
       "         'SC': 1,\n",
       "         'TX': 1,\n",
       "         'VA': 1,\n",
       "         'WA': 4})"
      ]
     },
     "execution_count": 15,
     "metadata": {},
     "output_type": "execute_result"
    }
   ],
   "source": [
    "Counter(ds2.state)"
   ]
  },
  {
   "cell_type": "markdown",
   "metadata": {},
   "source": [
    "We want to compare the salaries of east, west and other parts of US:"
   ]
  },
  {
   "cell_type": "code",
   "execution_count": 47,
   "metadata": {
    "collapsed": true
   },
   "outputs": [],
   "source": [
    "d={}\n",
    "d['east']=['CT','MA','MD','NY','PA','SC','VA','ME','VT','NH','RI','NJ','DE','WV','NC','GA','AL']\n",
    "d['west']=['CA','OR','WA','AK','MO','ID','MT','NV','UT','WY']\n",
    "d['other']=['AZ','CO','IL','OH','TX']"
   ]
  },
  {
   "cell_type": "code",
   "execution_count": 48,
   "metadata": {
    "collapsed": false
   },
   "outputs": [],
   "source": [
    "ds2['part']=''"
   ]
  },
  {
   "cell_type": "code",
   "execution_count": 49,
   "metadata": {
    "collapsed": false
   },
   "outputs": [],
   "source": [
    "index = [i in d['east'] for i in ds2.state]\n",
    "index2 = [i in d['west'] for i in ds2.state]\n",
    "index3 = [i in d['other'] for i in ds2.state]\n",
    "ds2.loc[index,'part']='east'\n",
    "ds2.loc[index2,'part']='west'\n",
    "ds2.loc[index3,'part']='other'"
   ]
  },
  {
   "cell_type": "code",
   "execution_count": 50,
   "metadata": {
    "collapsed": false
   },
   "outputs": [
    {
     "data": {
      "text/plain": [
       "Counter({'east': 26, 'other': 6, 'west': 42})"
      ]
     },
     "execution_count": 50,
     "metadata": {},
     "output_type": "execute_result"
    }
   ],
   "source": [
    "Counter(ds2.part)"
   ]
  },
  {
   "cell_type": "code",
   "execution_count": 51,
   "metadata": {
    "collapsed": false
   },
   "outputs": [
    {
     "data": {
      "image/png": "[encoded data removed]",
      "text/plain": [
       "<matplotlib.figure.Figure at 0xd2b66d8>"
      ]
     },
     "metadata": {},
     "output_type": "display_data"
    }
   ],
   "source": [
    "ds2.boxplot(\"salary_mid\", \"part\")\n",
    "plt.show()"
   ]
  },
  {
   "cell_type": "code",
   "execution_count": 52,
   "metadata": {
    "collapsed": false
   },
   "outputs": [
    {
     "name": "stdout",
     "output_type": "stream",
     "text": [
      "                sum_sq    df         F    PR(>F)\n",
      "part      1.424035e+10   2.0  5.454681  0.006256\n",
      "Residual  9.267865e+10  71.0       NaN       NaN\n"
     ]
    }
   ],
   "source": [
    "import statsmodels.api as sm\n",
    "from statsmodels.formula.api import ols\n",
    " \n",
    "mod = ols('salary_mid ~ part',\n",
    "                data=ds2).fit()\n",
    "                \n",
    "aov_table = sm.stats.anova_lm(mod, typ=2)\n",
    "print aov_table"
   ]
  },
  {
   "cell_type": "code",
   "execution_count": 53,
   "metadata": {
    "collapsed": false
   },
   "outputs": [
    {
     "name": "stdout",
     "output_type": "stream",
     "text": [
      "                            OLS Regression Results                            \n",
      "==============================================================================\n",
      "Dep. Variable:             salary_mid   R-squared:                       0.133\n",
      "Model:                            OLS   Adj. R-squared:                  0.109\n",
      "Method:                 Least Squares   F-statistic:                     5.455\n",
      "Date:                Mon, 06 Mar 2017   Prob (F-statistic):            0.00626\n",
      "Time:                        17:04:34   Log-Likelihood:                -880.09\n",
      "No. Observations:                  74   AIC:                             1766.\n",
      "Df Residuals:                      71   BIC:                             1773.\n",
      "Df Model:                           2                                         \n",
      "Covariance Type:            nonrobust                                         \n",
      "=================================================================================\n",
      "                    coef    std err          t      P>|t|      [95.0% Conf. Int.]\n",
      "---------------------------------------------------------------------------------\n",
      "Intercept      1.327e+05   7085.557     18.727      0.000      1.19e+05  1.47e+05\n",
      "part[T.other]  1.439e+04   1.64e+04      0.879      0.382     -1.82e+04   4.7e+04\n",
      "part[T.west]   2.969e+04   9015.791      3.293      0.002      1.17e+04  4.77e+04\n",
      "==============================================================================\n",
      "Omnibus:                       25.818   Durbin-Watson:                   1.969\n",
      "Prob(Omnibus):                  0.000   Jarque-Bera (JB):               54.011\n",
      "Skew:                           1.182   Prob(JB):                     1.87e-12\n",
      "Kurtosis:                       6.454   Cond. No.                         4.84\n",
      "==============================================================================\n",
      "\n",
      "Warnings:\n",
      "[1] Standard Errors assume that the covariance matrix of the errors is correctly specified.\n"
     ]
    }
   ],
   "source": [
    "print mod.summary()"
   ]
  },
  {
   "cell_type": "markdown",
   "metadata": {},
   "source": [
    "Consistent with the boxplot, the salary of east and mid have no significant difference, but the west are obviously different from them."
   ]
  },
  {
   "cell_type": "markdown",
   "metadata": {
    "collapsed": true
   },
   "source": [
    "Now, let us comapre to SDE."
   ]
  },
  {
   "cell_type": "code",
   "execution_count": 31,
   "metadata": {
    "collapsed": true
   },
   "outputs": [],
   "source": [
    "sde = pd.read_csv('Software_Engineer.csv',index_col=False)\n",
    "del sde['Unnamed: 0']"
   ]
  },
  {
   "cell_type": "code",
   "execution_count": 34,
   "metadata": {
    "collapsed": false
   },
   "outputs": [],
   "source": [
    "sde2 = sde[pd.notnull(sde['salary_lower'])].copy()"
   ]
  },
  {
   "cell_type": "code",
   "execution_count": 35,
   "metadata": {
    "collapsed": true
   },
   "outputs": [],
   "source": [
    "sde2 = sde2[sde2.salary_lower>0]"
   ]
  },
  {
   "cell_type": "code",
   "execution_count": 36,
   "metadata": {
    "collapsed": false
   },
   "outputs": [
    {
     "data": {
      "text/plain": [
       "200"
      ]
     },
     "execution_count": 36,
     "metadata": {},
     "output_type": "execute_result"
    }
   ],
   "source": [
    "len(sde)"
   ]
  },
  {
   "cell_type": "code",
   "execution_count": 37,
   "metadata": {
    "collapsed": false
   },
   "outputs": [
    {
     "data": {
      "text/plain": [
       "157"
      ]
     },
     "execution_count": 37,
     "metadata": {},
     "output_type": "execute_result"
    }
   ],
   "source": [
    "len(sde2)"
   ]
  },
  {
   "cell_type": "markdown",
   "metadata": {},
   "source": [
    "Same as before, we delete the NaN and 0 salaries records, now we only have 157 records for SDE."
   ]
  },
  {
   "cell_type": "code",
   "execution_count": 38,
   "metadata": {
    "collapsed": true
   },
   "outputs": [],
   "source": [
    "sde2 = sde2[sde2.salary_lower>0]"
   ]
  },
  {
   "cell_type": "code",
   "execution_count": 39,
   "metadata": {
    "collapsed": true
   },
   "outputs": [],
   "source": [
    "sde2['salary_mid']=(sde2.salary_lower+sde2.salary_upper)/2"
   ]
  },
  {
   "cell_type": "code",
   "execution_count": 46,
   "metadata": {
    "collapsed": false
   },
   "outputs": [
    {
     "data": {
      "text/plain": [
       "Counter({'AL': 2,\n",
       "         'AZ': 3,\n",
       "         'BC': 1,\n",
       "         'CA': 41,\n",
       "         'CO': 1,\n",
       "         'CT': 1,\n",
       "         'DC': 2,\n",
       "         'FL': 4,\n",
       "         'GA': 1,\n",
       "         'IA': 1,\n",
       "         'IL': 4,\n",
       "         'KS': 1,\n",
       "         'LA': 2,\n",
       "         'MA': 11,\n",
       "         'MD': 15,\n",
       "         'MI': 3,\n",
       "         'MN': 1,\n",
       "         'MO': 3,\n",
       "         'NC': 1,\n",
       "         'NE': 2,\n",
       "         'NH': 3,\n",
       "         'NJ': 4,\n",
       "         'NY': 11,\n",
       "         'OH': 1,\n",
       "         'OK': 2,\n",
       "         'ON': 2,\n",
       "         'PA': 1,\n",
       "         'SC': 1,\n",
       "         'TN': 1,\n",
       "         'TX': 13,\n",
       "         'UT': 2,\n",
       "         'VA': 7,\n",
       "         'WA': 9})"
      ]
     },
     "execution_count": 46,
     "metadata": {},
     "output_type": "execute_result"
    }
   ],
   "source": [
    "Counter(sde2.state)"
   ]
  },
  {
   "cell_type": "code",
   "execution_count": 54,
   "metadata": {
    "collapsed": true
   },
   "outputs": [],
   "source": [
    "sde2['part']='other'\n",
    "index = [i in d['east'] for i in sde2.state]\n",
    "index2 = [i in d['west'] for i in sde2.state]\n",
    "sde2.loc[index,'part']='east'\n",
    "sde2.loc[index2,'part']='west'"
   ]
  },
  {
   "cell_type": "markdown",
   "metadata": {},
   "source": [
    "Now, let us combine the dataset of data scientist and software engineer."
   ]
  },
  {
   "cell_type": "code",
   "execution_count": 58,
   "metadata": {
    "collapsed": false
   },
   "outputs": [],
   "source": [
    "ds2['type']='Data Scientist'\n",
    "sde2['type']='Software Engineer'\n",
    "dssde = ds2.append(sde2)"
   ]
  },
  {
   "cell_type": "code",
   "execution_count": 89,
   "metadata": {
    "collapsed": false
   },
   "outputs": [
    {
     "data": {
      "image/png": "[encoded data removed]",
      "text/plain": [
       "<matplotlib.figure.Figure at 0xc0d5c18>"
      ]
     },
     "metadata": {},
     "output_type": "display_data"
    }
   ],
   "source": [
    "sns.set(rc={\"figure.figsize\": (8, 4)})\n",
    "sns.distplot(dssde.salary_mid[dssde['type']=='Data Scientist'],hist_kws={\"label\":'DS'})\n",
    "sns.distplot(dssde.salary_mid[dssde['type']=='Software Engineer'],hist_kws={\"label\":'SDE'})\n",
    "plt.title('Distribution of Salary: DS vs SDE')\n",
    "plt.legend()\n",
    "plt.show()"
   ]
  },
  {
   "cell_type": "code",
   "execution_count": 95,
   "metadata": {
    "collapsed": false
   },
   "outputs": [
    {
     "data": {
      "image/png": "[encoded data removed]",
      "text/plain": [
       "<matplotlib.figure.Figure at 0xbcd8da0>"
      ]
     },
     "metadata": {},
     "output_type": "display_data"
    }
   ],
   "source": [
    "sns.boxplot(x=\"part\", y=\"salary_mid\", hue=\"type\", data=dssde,palette=\"Set1\")\n",
    "plt.title('Salary Compare: DS VS SDE')\n",
    "plt.show()"
   ]
  },
  {
   "cell_type": "code",
   "execution_count": 96,
   "metadata": {
    "collapsed": false
   },
   "outputs": [
    {
     "name": "stdout",
     "output_type": "stream",
     "text": [
      "                sum_sq     df          F        PR(>F)\n",
      "part      2.383304e+10    2.0  13.734130  2.341633e-06\n",
      "type      5.722386e+10    1.0  65.952134  2.940663e-14\n",
      "Residual  1.969583e+11  227.0        NaN           NaN\n"
     ]
    }
   ],
   "source": [
    "mod2 = ols('salary_mid ~ part+type',\n",
    "                data=dssde).fit()\n",
    "                \n",
    "aov_table2 = sm.stats.anova_lm(mod2, typ=2)\n",
    "print aov_table2"
   ]
  },
  {
   "cell_type": "code",
   "execution_count": 97,
   "metadata": {
    "collapsed": false
   },
   "outputs": [
    {
     "name": "stdout",
     "output_type": "stream",
     "text": [
      "                            OLS Regression Results                            \n",
      "==============================================================================\n",
      "Dep. Variable:             salary_mid   R-squared:                       0.350\n",
      "Model:                            OLS   Adj. R-squared:                  0.342\n",
      "Method:                 Least Squares   F-statistic:                     40.80\n",
      "Date:                Mon, 06 Mar 2017   Prob (F-statistic):           3.96e-21\n",
      "Time:                        17:38:11   Log-Likelihood:                -2702.9\n",
      "No. Observations:                 231   AIC:                             5414.\n",
      "Df Residuals:                     227   BIC:                             5428.\n",
      "Df Model:                           3                                         \n",
      "Covariance Type:            nonrobust                                         \n",
      "=============================================================================================\n",
      "                                coef    std err          t      P>|t|      [95.0% Conf. Int.]\n",
      "---------------------------------------------------------------------------------------------\n",
      "Intercept                  1.432e+05   4372.850     32.745      0.000      1.35e+05  1.52e+05\n",
      "part[T.other]              -1.18e+04   5323.988     -2.216      0.028     -2.23e+04 -1306.604\n",
      "part[T.west]               1.494e+04   4422.139      3.378      0.001      6223.718  2.37e+04\n",
      "type[T.Software Engineer] -3.488e+04   4294.465     -8.121      0.000     -4.33e+04 -2.64e+04\n",
      "==============================================================================\n",
      "Omnibus:                       46.596   Durbin-Watson:                   1.939\n",
      "Prob(Omnibus):                  0.000   Jarque-Bera (JB):               94.283\n",
      "Skew:                           0.991   Prob(JB):                     3.36e-21\n",
      "Kurtosis:                       5.422   Cond. No.                         4.54\n",
      "==============================================================================\n",
      "\n",
      "Warnings:\n",
      "[1] Standard Errors assume that the covariance matrix of the errors is correctly specified.\n"
     ]
    }
   ],
   "source": [
    "print mod2.summary()"
   ]
  },
  {
   "cell_type": "markdown",
   "metadata": {},
   "source": [
    "Based on the results of 2-way ANOVA and regression, we have 95% confidence that the part factor and job type factor are significant. Data scientist has higher salary than SDE, west part have highest salary."
   ]
  },
  {
   "cell_type": "markdown",
   "metadata": {},
   "source": [
    "<h2>Experience"
   ]
  },
  {
   "cell_type": "markdown",
   "metadata": {},
   "source": [
    "We want to know how many of the job postings specify the exact number of years of experience. We use regular expression to get this kind of info."
   ]
  },
  {
   "cell_type": "code",
   "execution_count": 15,
   "metadata": {
    "collapsed": true
   },
   "outputs": [],
   "source": [
    "import re"
   ]
  },
  {
   "cell_type": "code",
   "execution_count": 16,
   "metadata": {
    "collapsed": false
   },
   "outputs": [],
   "source": [
    "ds.need_for_position = [i.lower() for i in ds.need_for_position] "
   ]
  },
  {
   "cell_type": "code",
   "execution_count": 17,
   "metadata": {
    "collapsed": false
   },
   "outputs": [],
   "source": [
    "yoe= [re.findall(r'[0-9\\-\\\\+0-9]+ years of ',i) for i in ds.need_for_position]"
   ]
  },
  {
   "cell_type": "code",
   "execution_count": 18,
   "metadata": {
    "collapsed": false
   },
   "outputs": [
    {
     "data": {
      "text/plain": [
       "[[], [], ['3 years of '], [], []]"
      ]
     },
     "execution_count": 18,
     "metadata": {},
     "output_type": "execute_result"
    }
   ],
   "source": [
    "yoe[:5]"
   ]
  },
  {
   "cell_type": "code",
   "execution_count": 19,
   "metadata": {
    "collapsed": false
   },
   "outputs": [
    {
     "data": {
      "text/plain": [
       "49"
      ]
     },
     "execution_count": 19,
     "metadata": {},
     "output_type": "execute_result"
    }
   ],
   "source": [
    "len(ds.need_for_position)- sum(i==[] for i in yoe)"
   ]
  },
  {
   "cell_type": "markdown",
   "metadata": {},
   "source": [
    "Among the 109 jobs, 49 of them specify the years of experience."
   ]
  },
  {
   "cell_type": "code",
   "execution_count": 20,
   "metadata": {
    "collapsed": true
   },
   "outputs": [],
   "source": [
    "from itertools import compress\n",
    "yoe2 = list(compress(yoe, [i!=[] for i in yoe]))"
   ]
  },
  {
   "cell_type": "code",
   "execution_count": 21,
   "metadata": {
    "collapsed": false
   },
   "outputs": [],
   "source": [
    "del yoe2[8]"
   ]
  },
  {
   "cell_type": "code",
   "execution_count": 22,
   "metadata": {
    "collapsed": false
   },
   "outputs": [],
   "source": [
    "del yoe2[17]"
   ]
  },
  {
   "cell_type": "code",
   "execution_count": 23,
   "metadata": {
    "collapsed": true
   },
   "outputs": [],
   "source": [
    "yoe3 = [int(i[0][0]) for i in yoe2]"
   ]
  },
  {
   "cell_type": "code",
   "execution_count": 24,
   "metadata": {
    "collapsed": false
   },
   "outputs": [
    {
     "data": {
      "text/plain": [
       "[1, 2, 3, 4, 5, 8]"
      ]
     },
     "execution_count": 24,
     "metadata": {},
     "output_type": "execute_result"
    }
   ],
   "source": [
    "Counter(yoe3).keys()"
   ]
  },
  {
   "cell_type": "code",
   "execution_count": 25,
   "metadata": {
    "collapsed": false
   },
   "outputs": [
    {
     "data": {
      "text/plain": [
       "[2, 4, 26, 1, 13, 1]"
      ]
     },
     "execution_count": 25,
     "metadata": {},
     "output_type": "execute_result"
    }
   ],
   "source": [
    "Counter(yoe3).values()"
   ]
  },
  {
   "cell_type": "code",
   "execution_count": 31,
   "metadata": {
    "collapsed": false
   },
   "outputs": [
    {
     "data": {
      "image/png": "[encoded data removed]",
      "text/plain": [
       "<matplotlib.figure.Figure at 0xbd54cc0>"
      ]
     },
     "metadata": {},
     "output_type": "display_data"
    }
   ],
   "source": [
    "plt.bar(Counter(yoe3).keys(),Counter(yoe3).values())\n",
    "plt.xlabel('Years of experience')\n",
    "plt.ylabel('Count')\n",
    "plt.title('Bar Plot of Years of Experience-Data Scientist')\n",
    "plt.show()"
   ]
  }
 ],
 "metadata": {
  "anaconda-cloud": {},
  "kernelspec": {
   "display_name": "Python [default]",
   "language": "python",
   "name": "python2"
  },
  "language_info": {
   "codemirror_mode": {
    "name": "ipython",
    "version": 2
   },
   "file_extension": ".py",
   "mimetype": "text/x-python",
   "name": "python",
   "nbconvert_exporter": "python",
   "pygments_lexer": "ipython2",
   "version": "2.7.12"
  }
 },
 "nbformat": 4,
 "nbformat_minor": 1
}
